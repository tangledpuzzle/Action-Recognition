{
 "cells": [
  {
   "cell_type": "code",
   "execution_count": 2,
   "metadata": {},
   "outputs": [],
   "source": [
    "import mylib.feature_proc as myproc\n",
    "import mylib.action_classifier as myclf\n",
    "import mylib.displays as mydisp\n",
    "import importlib"
   ]
  },
  {
   "cell_type": "code",
   "execution_count": 3,
   "metadata": {},
   "outputs": [],
   "source": [
    "import pandas as pd\n",
    "import simplejson\n",
    "import numpy as np\n",
    "import math\n",
    "import sklearn\n",
    "from sklearn.preprocessing import LabelEncoder, OneHotEncoder\n",
    "from sklearn.model_selection import train_test_split\n",
    "import simplejson\n",
    "RAND_SEED = 1"
   ]
  },
  {
   "cell_type": "code",
   "execution_count": 4,
   "metadata": {},
   "outputs": [],
   "source": [
    "from sklearn.metrics import confusion_matrix\n",
    "from sklearn.utils.multiclass import unique_labels"
   ]
  },
  {
   "cell_type": "code",
   "execution_count": 5,
   "metadata": {},
   "outputs": [],
   "source": [
    "import matplotlib.pyplot as plt\n",
    "from matplotlib.colors import ListedColormap\n",
    "from sklearn.model_selection import train_test_split\n",
    "from sklearn.preprocessing import StandardScaler\n",
    "from sklearn.datasets import make_moons, make_circles, make_classification\n",
    "from sklearn.neural_network import MLPClassifier\n",
    "from sklearn.neighbors import KNeighborsClassifier\n",
    "from sklearn.svm import SVC\n",
    "from sklearn.gaussian_process import GaussianProcessClassifier\n",
    "from sklearn.gaussian_process.kernels import RBF\n",
    "from sklearn.tree import DecisionTreeClassifier\n",
    "from sklearn.ensemble import RandomForestClassifier, AdaBoostClassifier\n",
    "from sklearn.naive_bayes import GaussianNB\n",
    "from sklearn.discriminant_analysis import QuadraticDiscriminantAnalysis"
   ]
  },
  {
   "cell_type": "code",
   "execution_count": 6,
   "metadata": {},
   "outputs": [],
   "source": [
    "# load data\n",
    "def encode_Y(Y_str):\n",
    "    # One-hot encoder. e.g: Y_one_hot = [1,0,0,0], [0,1,0,0], ...\n",
    "    enc = OneHotEncoder(handle_unknown='ignore')\n",
    "    enc.fit(Y_str)\n",
    "    # labels = enc.categories_[0].tolist()\n",
    "    labels = enc.categories_[0]\n",
    "    print(\"labels: \", labels)\n",
    "    Y_one_hot = enc.transform(Y_str).toarray()\n",
    "    \n",
    "    # Get label index. e.g: Y = 0, 1, 2, ...\n",
    "    Y = [np.where(yi==1)[0][0] for yi in Y_one_hot]\n",
    "    return Y, Y_one_hot, labels\n",
    "\n",
    "def remove_incomplete_sample(X0, NaN):\n",
    "    left, right=0, 14*2 # only check 14 data, which are: head(1) + neck(1) + 2 * (arm(3) + leg(3))\n",
    "    valid_indices = []\n",
    "    for i in range(X0.shape[0]):\n",
    "        if len(np.where(X0[i,left:right]==NaN)[0])==0:\n",
    "            valid_indices.append(i)\n",
    "    return valid_indices\n",
    "\n",
    "\n",
    "def load_my_data(filepath):\n",
    "    with open(filepath, 'r') as f:\n",
    "        dataset = simplejson.load(f)\n",
    "        \n",
    "        # dataset = dataset[0:1000]\n",
    "        \n",
    "        X = np.array([r[5:5+36] for r in dataset])\n",
    "        clip_indices = [r[1] for r in dataset]\n",
    "        Y_str = [[r[3]] for r in dataset]\n",
    "        Y, Y_one_hot, labels = encode_Y(Y_str)\n",
    "        \n",
    "        print(\"Num samples = \", len(Y))\n",
    "        \n",
    "        if 0:\n",
    "            valid_indices = remove_incomplete_sample(X, NaN=0)\n",
    "            X = X[valid_indices, :]\n",
    "            Y = [Y[i] for i in valid_indices]\n",
    "            clip_indices = [clip_indices[i] for i in valid_indices]\n",
    "            print(\"Num samples after removal = \", len(Y))\n",
    "        \n",
    "        return X, Y, clip_indices, labels\n",
    "    print(\"my Error: loading skeletons_info.txt failed.\")\n",
    "    return None, None\n",
    "\n",
    "def split_data(X, Y):\n",
    "    if 1:\n",
    "        tr_X, te_X, tr_Y, te_Y = train_test_split(X, Y, test_size=0.3, random_state=RAND_SEED)\n",
    "    else:\n",
    "        tr_X = np.copy(X)\n",
    "        tr_Y = Y.copy()\n",
    "        te_X = np.copy(X)\n",
    "        te_Y = Y.copy()\n",
    "    print(\"Size of X:\", tr_X.shape)\n",
    "    print(\"Num training: \", len(tr_Y))\n",
    "    print(\"Num testing:  \", len(te_Y))\n",
    "    return tr_X, te_X, tr_Y, te_Y"
   ]
  },
  {
   "cell_type": "code",
   "execution_count": 7,
   "metadata": {},
   "outputs": [],
   "source": [
    "# Process features\n",
    "def extract_time_serials_data(X, Y, clip_indices):\n",
    "    X_new = []\n",
    "    Y_new = []\n",
    "\n",
    "    # Loop through all data\n",
    "    for ir, _ in enumerate(clip_indices):\n",
    "\n",
    "        # Start a new serials\n",
    "        if ir==0 or clip_indices[ir]!=clip_indices[ir-1]:\n",
    "            fg = myproc.FeatureGenerator()\n",
    "        \n",
    "        # Get features\n",
    "        flag, features = fg.add_curr_skeleton(X[ir,:])\n",
    "        if flag:\n",
    "            X_new.append(features)\n",
    "            Y_new.append(Y[ir])\n",
    "\n",
    "    X_new = np.array(X_new)\n",
    "    return X_new, Y_new"
   ]
  },
  {
   "cell_type": "code",
   "execution_count": 8,
   "metadata": {},
   "outputs": [
    {
     "name": "stdout",
     "output_type": "stream",
     "text": [
      "labels:  ['jump' 'kick' 'punch' 'run' 'sit' 'squat' 'stand' 'walk' 'wave']\n",
      "Num samples =  11202\n"
     ]
    }
   ],
   "source": [
    "X0, Y0, clip_indices, classes = load_my_data('skeleton_data/skeletons3_info.txt')"
   ]
  },
  {
   "cell_type": "code",
   "execution_count": 9,
   "metadata": {},
   "outputs": [
    {
     "name": "stdout",
     "output_type": "stream",
     "text": [
      "After extract time serials: X.shape =  (10874, 314) , len(Y) =  10874\n",
      "Size of X: (7611, 314)\n",
      "Num training:  7611\n",
      "Num testing:   3263\n"
     ]
    }
   ],
   "source": [
    "# Get time serials data\n",
    "importlib.reload(myproc)\n",
    "X, Y = extract_time_serials_data(X0, Y0, clip_indices)\n",
    "print(\"After extract time serials:\", \"X.shape = \", X.shape, \", len(Y) = \", len(Y))\n",
    "tr_X, te_X, tr_Y, te_Y = split_data(X, Y)"
   ]
  },
  {
   "cell_type": "code",
   "execution_count": 10,
   "metadata": {},
   "outputs": [
    {
     "name": "stdout",
     "output_type": "stream",
     "text": [
      "Sum eig values: 0.9770065116571406\n",
      "After PCA, X.shape =  (7611, 50)\n"
     ]
    }
   ],
   "source": [
    "importlib.reload(myclf)\n",
    "model = myclf.MyModel()\n",
    "model.train(tr_X, tr_Y)"
   ]
  },
  {
   "cell_type": "code",
   "execution_count": 15,
   "metadata": {},
   "outputs": [
    {
     "name": "stdout",
     "output_type": "stream",
     "text": [
      "Accuracy is  1.0\n",
      "Accuracy is  0.9923383389518847\n",
      "Time cost for predicting one sample: 7.592230700867698e-06\n",
      "Confusion matrix, without normalization\n"
     ]
    },
    {
     "data": {
      "image/png": "[encoded data removed]",
      "text/plain": [
       "<Figure size 720x432 with 2 Axes>"
      ]
     },
     "metadata": {
      "needs_background": "light"
     },
     "output_type": "display_data"
    }
   ],
   "source": [
    "importlib.reload(mydisp)\n",
    "import time\n",
    "\n",
    "t0 = time.time()\n",
    "\n",
    "tr_accu, tr_Y_predict = model.predict_and_evaluate(tr_X, tr_Y)\n",
    "te_accu, te_Y_predict = model.predict_and_evaluate(te_X, te_Y)\n",
    "\n",
    "print( \"Time cost for predicting one sample:\", (time.time()-t0)/len(Y) )\n",
    "\n",
    "# axis, cf = mydisp.plot_confusion_matrix(tr_Y, tr_Y_predict, classes, normalize=True)\n",
    "axis, cf = mydisp.plot_confusion_matrix(te_Y, te_Y_predict, classes, normalize=False, size=(10, 6))"
   ]
  },
  {
   "cell_type": "code",
   "execution_count": 12,
   "metadata": {},
   "outputs": [
    {
     "name": "stdout",
     "output_type": "stream",
     "text": [
      "              precision    recall  f1-score   support\n",
      "\n",
      "        jump       0.99      1.00      0.99       322\n",
      "        kick       0.99      0.98      0.98       322\n",
      "       punch       1.00      0.99      1.00       242\n",
      "         run       0.99      0.99      0.99       306\n",
      "         sit       1.00      1.00      1.00       548\n",
      "       squat       1.00      1.00      1.00       277\n",
      "       stand       0.99      1.00      0.99       522\n",
      "        walk       0.99      0.98      0.98       372\n",
      "        wave       0.99      1.00      0.99       352\n",
      "\n",
      "   micro avg       0.99      0.99      0.99      3263\n",
      "   macro avg       0.99      0.99      0.99      3263\n",
      "weighted avg       0.99      0.99      0.99      3263\n",
      "\n"
     ]
    }
   ],
   "source": [
    "from sklearn.metrics import classification_report\n",
    "print(classification_report(te_Y, te_Y_predict, target_names=classes))"
   ]
  },
  {
   "cell_type": "code",
   "execution_count": 16,
   "metadata": {},
   "outputs": [],
   "source": [
    "if model.model_name==\"Neural Net\":\n",
    "    \n",
    "    # Save trained model to file\n",
    "    import pickle\n",
    "    path_to_save_model = '../model/trained_classifier.pickle'\n",
    "    \n",
    "    with open(path_to_save_model, 'wb') as f:\n",
    "        pickle.dump(model, f)\n",
    "\n",
    "    if 0:\n",
    "        # Load and test again to ensure correctly saved to file\n",
    "        with open(path_to_save_model, 'rb') as f:\n",
    "            model2 = pickle.load(f)\n",
    "        print(tr_X.shape)\n",
    "        model2.predict_and_evaluate(tr_X, tr_Y)\n",
    "        model2.predict_and_evaluate(te_X, te_Y)\n",
    "        print(\"OK, model is saved to disk. I can test it on webcam\")"
   ]
  },
  {
   "cell_type": "code",
   "execution_count": null,
   "metadata": {},
   "outputs": [],
   "source": []
  },
  {
   "cell_type": "code",
   "execution_count": null,
   "metadata": {},
   "outputs": [],
   "source": []
  },
  {
   "cell_type": "code",
   "execution_count": null,
   "metadata": {},
   "outputs": [],
   "source": []
  }
 ],
 "metadata": {
  "kernelspec": {
   "display_name": "Python 3",
   "language": "python",
   "name": "python3"
  },
  "language_info": {
   "codemirror_mode": {
    "name": "ipython",
    "version": 3
   },
   "file_extension": ".py",
   "mimetype": "text/x-python",
   "name": "python",
   "nbconvert_exporter": "python",
   "pygments_lexer": "ipython3",
   "version": "3.7.1"
  }
 },
 "nbformat": 4,
 "nbformat_minor": 2
}
